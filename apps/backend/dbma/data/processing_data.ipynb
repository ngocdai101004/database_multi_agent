{
 "cells": [
  {
   "cell_type": "code",
   "execution_count": 2,
   "metadata": {},
   "outputs": [
    {
     "name": "stderr",
     "output_type": "stream",
     "text": [
      "C:\\Users\\Admin\\AppData\\Local\\Temp\\ipykernel_5164\\246347078.py:54: LangChainDeprecationWarning: The method `BaseChatModel.predict` was deprecated in langchain-core 0.1.7 and will be removed in 1.0. Use :meth:`~invoke` instead.\n",
      "  response = llm.predict(prompt)\n"
     ]
    },
    {
     "name": "stdout",
     "output_type": "stream",
     "text": [
      "✅ Done. Schema TXT files and descriptions generated.\n"
     ]
    }
   ],
   "source": [
    "import os\n",
    "from langchain_community.utilities import SQLDatabase\n",
    "from langchain_openai import ChatOpenAI\n",
    "from langchain.schema import HumanMessage\n",
    "\n",
    "import os\n",
    "import glob\n",
    "\n",
    "from dotenv import load_dotenv\n",
    "load_dotenv()\n",
    "\n",
    "\n",
    "BASE_DIR = \"bird/dev_databases\" \n",
    "SCHEMA_OUTPUT_DIR = \"schemas\"\n",
    "DESCRIPTION_OUTPUT_FILE = \"descriptions.txt\"\n",
    "\n",
    "OPENAI_API_KEY = os.getenv(\"OPENAI_API_KEY\")\n",
    "LLM_MODEL = \"gpt-4o-mini\"\n",
    "\n",
    "# ===== INIT LLM =====\n",
    "llm = ChatOpenAI(\n",
    "    model=LLM_MODEL,\n",
    "    api_key=OPENAI_API_KEY,\n",
    "    temperature=0.3\n",
    ")\n",
    "\n",
    "os.makedirs(SCHEMA_OUTPUT_DIR, exist_ok=True)\n",
    "all_descriptions = []\n",
    "\n",
    "# ===== MAIN LOOP =====\n",
    "for schema_dir in os.listdir(BASE_DIR):\n",
    "    schema_path = os.path.join(BASE_DIR, schema_dir)\n",
    "    if os.path.isdir(schema_path):\n",
    "        sqlite_file = os.path.join(schema_path, f\"{schema_dir}.sqlite\")\n",
    "        if not os.path.exists(sqlite_file):\n",
    "            print(f\"Not found {schema_dir}\")\n",
    "            continue\n",
    "\n",
    "        # 1. Lấy schema từ SQLite\n",
    "        db = SQLDatabase.from_uri(f\"sqlite:///{sqlite_file}\")\n",
    "        schema_str = db.get_table_info()\n",
    "\n",
    "        # 2. Lưu schema vào file\n",
    "        schema_txt_file = os.path.join(SCHEMA_OUTPUT_DIR, f\"{schema_dir}.txt\")\n",
    "        with open(schema_txt_file, \"w\", encoding=\"utf-8\") as f:\n",
    "            f.write(schema_str)\n",
    "\n",
    "        # 3. Sinh mô tả từ LLM\n",
    "        prompt = (\n",
    "            f\"The following is a database schema:\\n\\n\"\n",
    "            f\"{schema_str}\\n\\n\"\n",
    "            \"Please provide a concise 2-3 sentence description about what this database is about.\"\n",
    "        )\n",
    "        response = llm.predict(prompt)\n",
    "        all_descriptions.append(f\"### {schema_dir} ###\\n{response.strip()}\\n\")\n",
    "\n",
    "# 4. Lưu tất cả mô tả vào một file\n",
    "with open(DESCRIPTION_OUTPUT_FILE, \"w\", encoding=\"utf-8\") as f:\n",
    "    f.write(\"\\n\\n\".join(all_descriptions))\n",
    "\n",
    "print(\"✅ Done. Schema TXT files and descriptions generated.\")\n"
   ]
  },
  {
   "cell_type": "code",
   "execution_count": null,
   "metadata": {},
   "outputs": [],
   "source": []
  }
 ],
 "metadata": {
  "kernelspec": {
   "display_name": "langchainEnv",
   "language": "python",
   "name": "python3"
  },
  "language_info": {
   "codemirror_mode": {
    "name": "ipython",
    "version": 3
   },
   "file_extension": ".py",
   "mimetype": "text/x-python",
   "name": "python",
   "nbconvert_exporter": "python",
   "pygments_lexer": "ipython3",
   "version": "3.11.11"
  }
 },
 "nbformat": 4,
 "nbformat_minor": 2
}
